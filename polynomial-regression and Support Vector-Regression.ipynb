{
 "cells": [
  {
   "cell_type": "markdown",
   "id": "756a47cd",
   "metadata": {},
   "source": [
    "# importing libraries and dataframing"
   ]
  },
  {
   "cell_type": "code",
   "execution_count": 115,
   "id": "b7b3cdb0",
   "metadata": {},
   "outputs": [],
   "source": [
    "import pandas as pd\n",
    "import numpy as np\n",
    "import matplotlib.pyplot as plt\n",
    "import math"
   ]
  },
  {
   "cell_type": "code",
   "execution_count": 154,
   "id": "d4771691",
   "metadata": {},
   "outputs": [],
   "source": [
    "data=pd.read_csv(r\"C:\\Users\\Muhammad Fahad\\Downloads\\Position_Salaries.csv\")"
   ]
  },
  {
   "cell_type": "code",
   "execution_count": 155,
   "id": "cb0c2406",
   "metadata": {},
   "outputs": [
    {
     "data": {
      "text/html": [
       "<div>\n",
       "<style scoped>\n",
       "    .dataframe tbody tr th:only-of-type {\n",
       "        vertical-align: middle;\n",
       "    }\n",
       "\n",
       "    .dataframe tbody tr th {\n",
       "        vertical-align: top;\n",
       "    }\n",
       "\n",
       "    .dataframe thead th {\n",
       "        text-align: right;\n",
       "    }\n",
       "</style>\n",
       "<table border=\"1\" class=\"dataframe\">\n",
       "  <thead>\n",
       "    <tr style=\"text-align: right;\">\n",
       "      <th></th>\n",
       "      <th>Position</th>\n",
       "      <th>Level</th>\n",
       "      <th>Salary</th>\n",
       "    </tr>\n",
       "  </thead>\n",
       "  <tbody>\n",
       "    <tr>\n",
       "      <th>0</th>\n",
       "      <td>Business Analyst</td>\n",
       "      <td>1</td>\n",
       "      <td>45000</td>\n",
       "    </tr>\n",
       "    <tr>\n",
       "      <th>1</th>\n",
       "      <td>Junior Consultant</td>\n",
       "      <td>2</td>\n",
       "      <td>50000</td>\n",
       "    </tr>\n",
       "    <tr>\n",
       "      <th>2</th>\n",
       "      <td>Senior Consultant</td>\n",
       "      <td>3</td>\n",
       "      <td>60000</td>\n",
       "    </tr>\n",
       "    <tr>\n",
       "      <th>3</th>\n",
       "      <td>Manager</td>\n",
       "      <td>4</td>\n",
       "      <td>80000</td>\n",
       "    </tr>\n",
       "    <tr>\n",
       "      <th>4</th>\n",
       "      <td>Country Manager</td>\n",
       "      <td>5</td>\n",
       "      <td>110000</td>\n",
       "    </tr>\n",
       "  </tbody>\n",
       "</table>\n",
       "</div>"
      ],
      "text/plain": [
       "            Position  Level  Salary\n",
       "0   Business Analyst      1   45000\n",
       "1  Junior Consultant      2   50000\n",
       "2  Senior Consultant      3   60000\n",
       "3            Manager      4   80000\n",
       "4    Country Manager      5  110000"
      ]
     },
     "execution_count": 155,
     "metadata": {},
     "output_type": "execute_result"
    }
   ],
   "source": [
    "data.head()"
   ]
  },
  {
   "cell_type": "code",
   "execution_count": 156,
   "id": "1fc6b30e",
   "metadata": {},
   "outputs": [],
   "source": [
    "x = data.iloc[:,1:2].values\n",
    "y = data.iloc[:,2:3].values"
   ]
  },
  {
   "cell_type": "code",
   "execution_count": null,
   "id": "47f570ef",
   "metadata": {},
   "outputs": [],
   "source": []
  },
  {
   "cell_type": "code",
   "execution_count": 165,
   "id": "46a36292",
   "metadata": {},
   "outputs": [
    {
     "data": {
      "image/png": "[encoded data removed]",
      "text/plain": [
       "<Figure size 432x288 with 1 Axes>"
      ]
     },
     "metadata": {
      "needs_background": "light"
     },
     "output_type": "display_data"
    }
   ],
   "source": [
    "plt.scatter(x,y,color='green')\n",
    "plt.xlabel('Level')\n",
    "plt.ylabel('salary')\n",
    "plt.show()"
   ]
  },
  {
   "cell_type": "markdown",
   "id": "2a172b97",
   "metadata": {},
   "source": [
    "# training our model as polynomial regression with degree 04"
   ]
  },
  {
   "cell_type": "code",
   "execution_count": 119,
   "id": "868f41b2",
   "metadata": {},
   "outputs": [
    {
     "data": {
      "text/plain": [
       "LinearRegression()"
      ]
     },
     "execution_count": 119,
     "metadata": {},
     "output_type": "execute_result"
    }
   ],
   "source": [
    "from sklearn.preprocessing import PolynomialFeatures\n",
    "from sklearn.linear_model import LinearRegression\n",
    "\n",
    "poly_reg= PolynomialFeatures(degree=4)\n",
    "x_poly = poly_reg.fit_transform(x)\n",
    "\n",
    "poly_reg.fit(x_poly,y)\n",
    "\n",
    "lr_reg= LinearRegression()\n",
    "lr_reg.fit(x_poly,y)\n"
   ]
  },
  {
   "cell_type": "code",
   "execution_count": 120,
   "id": "30633a5e",
   "metadata": {},
   "outputs": [
    {
     "data": {
      "image/png": "[encoded data removed]",
      "text/plain": [
       "<Figure size 432x288 with 1 Axes>"
      ]
     },
     "metadata": {
      "needs_background": "light"
     },
     "output_type": "display_data"
    }
   ],
   "source": [
    "plt.scatter(x,y,color='red')\n",
    "plt.plot(x, lr_reg.predict(poly_reg.fit_transform(x)),color='blue')\n",
    "plt.show()"
   ]
  },
  {
   "cell_type": "code",
   "execution_count": 121,
   "id": "bab9f89f",
   "metadata": {},
   "outputs": [
    {
     "name": "stdout",
     "output_type": "stream",
     "text": [
      "R sq:  0.9973922891706614\n"
     ]
    }
   ],
   "source": [
    "#cheking R-Square value of polynomial model\n",
    "\n",
    "print('R sq: ', lr_reg.score(x_poly, y))"
   ]
  },
  {
   "cell_type": "markdown",
   "id": "95461737",
   "metadata": {},
   "source": [
    "# training our model as a linear regression"
   ]
  },
  {
   "cell_type": "code",
   "execution_count": 123,
   "id": "cba24761",
   "metadata": {},
   "outputs": [],
   "source": [
    "lr_reg.fit(x,y)\n",
    "y_pred=lr_reg.predict(x)"
   ]
  },
  {
   "cell_type": "code",
   "execution_count": 124,
   "id": "e708f06c",
   "metadata": {},
   "outputs": [
    {
     "data": {
      "text/plain": [
       "[<matplotlib.lines.Line2D at 0x24e3f35ca60>]"
      ]
     },
     "execution_count": 124,
     "metadata": {},
     "output_type": "execute_result"
    },
    {
     "data": {
      "image/png": "[encoded data removed]",
      "text/plain": [
       "<Figure size 432x288 with 1 Axes>"
      ]
     },
     "metadata": {
      "needs_background": "light"
     },
     "output_type": "display_data"
    }
   ],
   "source": [
    "plt.scatter(x,y,color='green')\n",
    "plt.plot(x,y_pred,color='red')"
   ]
  },
  {
   "cell_type": "code",
   "execution_count": 125,
   "id": "012e103c",
   "metadata": {},
   "outputs": [
    {
     "name": "stdout",
     "output_type": "stream",
     "text": [
      "R sq:  0.6690412331929895\n"
     ]
    }
   ],
   "source": [
    "#cheking R-Square value of linear model\n",
    "print('R sq: ', lr_reg.score(x, y))"
   ]
  },
  {
   "cell_type": "markdown",
   "id": "3cbb34c3",
   "metadata": {},
   "source": [
    "# training our model as Support Vector Regression "
   ]
  },
  {
   "cell_type": "code",
   "execution_count": 146,
   "id": "ec65d5cb",
   "metadata": {},
   "outputs": [],
   "source": [
    "from sklearn.preprocessing import StandardScaler\n",
    "sc_x= StandardScaler()\n",
    "sc_y= StandardScaler()"
   ]
  },
  {
   "cell_type": "code",
   "execution_count": 147,
   "id": "dc94e79c",
   "metadata": {},
   "outputs": [],
   "source": [
    "X= sc_x.fit_transform(x)\n",
    "Y= sc_y.fit_transform(y)"
   ]
  },
  {
   "cell_type": "code",
   "execution_count": 168,
   "id": "7d31a5e5",
   "metadata": {},
   "outputs": [],
   "source": [
    "from sklearn.svm import SVR"
   ]
  },
  {
   "cell_type": "code",
   "execution_count": 169,
   "id": "93c571a5",
   "metadata": {},
   "outputs": [
    {
     "name": "stderr",
     "output_type": "stream",
     "text": [
      "C:\\Users\\Muhammad Fahad\\anaconda3\\lib\\site-packages\\sklearn\\utils\\validation.py:993: DataConversionWarning: A column-vector y was passed when a 1d array was expected. Please change the shape of y to (n_samples, ), for example using ravel().\n",
      "  y = column_or_1d(y, warn=True)\n"
     ]
    },
    {
     "data": {
      "text/plain": [
       "SVR()"
      ]
     },
     "execution_count": 169,
     "metadata": {},
     "output_type": "execute_result"
    }
   ],
   "source": [
    "S_reg= SVR(kernel='rbf')\n",
    "S_reg.fit(X,Y)"
   ]
  },
  {
   "cell_type": "markdown",
   "id": "865aa8d3",
   "metadata": {},
   "source": [
    "## now plotting our model to check "
   ]
  },
  {
   "cell_type": "code",
   "execution_count": 180,
   "id": "53f9ad02",
   "metadata": {},
   "outputs": [
    {
     "data": {
      "text/plain": [
       "[<matplotlib.lines.Line2D at 0x24e46d1a880>]"
      ]
     },
     "execution_count": 180,
     "metadata": {},
     "output_type": "execute_result"
    },
    {
     "data": {
      "image/png": "[encoded data removed]",
      "text/plain": [
       "<Figure size 432x288 with 1 Axes>"
      ]
     },
     "metadata": {
      "needs_background": "light"
     },
     "output_type": "display_data"
    }
   ],
   "source": [
    "fig=plt.figure()\n",
    "ax= fig.add_axes([0,0,1,1])\n",
    "ax.scatter(X,Y,color='purple')\n",
    "ax.plot(X,S_reg.predict(X),color='black')\n"
   ]
  },
  {
   "cell_type": "markdown",
   "id": "c0b2d3b3",
   "metadata": {},
   "source": [
    "## cheking the prediction accuracy of SVR model"
   ]
  },
  {
   "cell_type": "code",
   "execution_count": 182,
   "id": "0dd79bdf",
   "metadata": {},
   "outputs": [
    {
     "name": "stdout",
     "output_type": "stream",
     "text": [
      "[[ 0.3955995   0.40163872  0.36247548  0.31743325  0.28525161  0.23372204\n",
      "   0.09009752 -0.18227918 -0.49930801 -0.69292059]\n",
      " [ 0.50862792  0.51639264  0.4660399   0.40812847  0.36675207  0.30049976\n",
      "   0.11583967 -0.23435894 -0.64196744 -0.89089791]\n",
      " [ 0.71207909  0.72294969  0.65245586  0.57137986  0.51345289  0.42069966\n",
      "   0.16217554 -0.32810252 -0.89875442 -1.24725707]\n",
      " [ 1.18679849  1.20491615  1.08742644  0.95229976  0.85575482  0.70116611\n",
      "   0.27029256 -0.54683753 -1.49792403 -2.07876178]\n",
      " [ 3.56039546  3.61474845  3.26227932  2.85689929  2.56726447  2.10349832\n",
      "   0.81087769 -1.64051258 -4.49377209 -6.23628535]\n",
      " [-3.56039546 -3.61474845 -3.26227932 -2.85689929 -2.56726447 -2.10349832\n",
      "  -0.81087769  1.64051258  4.49377209  6.23628535]\n",
      " [-1.18679849 -1.20491615 -1.08742644 -0.95229976 -0.85575482 -0.70116611\n",
      "  -0.27029256  0.54683753  1.49792403  2.07876178]\n",
      " [-0.71207909 -0.72294969 -0.65245586 -0.57137986 -0.51345289 -0.42069966\n",
      "  -0.16217554  0.32810252  0.89875442  1.24725707]\n",
      " [-0.50862792 -0.51639264 -0.4660399  -0.40812847 -0.36675207 -0.30049976\n",
      "  -0.11583967  0.23435894  0.64196744  0.89089791]\n",
      " [-0.3955995  -0.40163872 -0.36247548 -0.31743325 -0.28525161 -0.23372204\n",
      "  -0.09009752  0.18227918  0.49930801  0.69292059]]\n"
     ]
    }
   ],
   "source": [
    "y_pred=S_reg.predict(X)\n",
    "print(y_pred/X)"
   ]
  }
 ],
 "metadata": {
  "kernelspec": {
   "display_name": "Python 3 (ipykernel)",
   "language": "python",
   "name": "python3"
  },
  "language_info": {
   "codemirror_mode": {
    "name": "ipython",
    "version": 3
   },
   "file_extension": ".py",
   "mimetype": "text/x-python",
   "name": "python",
   "nbconvert_exporter": "python",
   "pygments_lexer": "ipython3",
   "version": "3.9.12"
  }
 },
 "nbformat": 4,
 "nbformat_minor": 5
}
